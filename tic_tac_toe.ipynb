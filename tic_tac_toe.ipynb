{
 "cells": [
  {
   "cell_type": "code",
   "execution_count": 58,
   "metadata": {},
   "outputs": [],
   "source": [
    "class TicTacToc():\n",
    "    \n",
    "    \n",
    "    def __init__(self):\n",
    "\n",
    "        self.g_counter = 0\n",
    "        self.p_value = [\" \", \" \", \" \", \" \", \" \", \" \", \" \", \" \", \" \" ]\n",
    "        self.dict = ({\"value_player1\" : 'X', \"value_player2\": \"0\", \n",
    "                     \"player1\": \"Jogador 1\", \"player2\" : \"Jogador 2\"})\n",
    "        self.player = self.dict['player1']\n",
    "        self.result = False\n",
    "        self.value = ''\n",
    "\n",
    "\n",
    "    def diagram(self):\n",
    "        if self.g_counter == 0:\n",
    "            \n",
    "            print (f\"\"\"  Escolha a posição da sua jogada com base no diagrama:\n",
    "                        | 1 | 2 | 3 |\n",
    "                        | 4 | 5 | 6 |\n",
    "                        | 7 | 8 | 9 |\"\"\")\n",
    "        \n",
    "        else:\n",
    "            \n",
    "            print (f\"\"\" \n",
    "                    \\n|{self.p_value[0]}|{self.p_value[1]}|{self.p_value[2]}|\\\n",
    "                    \\n|{self.p_value[3]}|{self.p_value[4]}|{self.p_value[5]}|\\\n",
    "                    \\n|{self.p_value[6]}|{self.p_value[7]}|{self.p_value[8]}|\"\"\")\n",
    "\n",
    "\n",
    "    def check_winner(self):\n",
    "\n",
    "        if ((self.p_value[0] == self.value) and (self.p_value[1] == self.value) and (self.p_value[2] == self.value)) or\\\n",
    "            ((self.p_value[3] == self.value) and (self.p_value[4] == self.value) and (self.p_value[5] == self.value)) or\\\n",
    "            ((self.p_value[6] == self.value) and (self.p_value[7] == self.value) and (self.p_value[8] == self.value)) or\\\n",
    "            ((self.p_value[0] == self.value) and (self.p_value[3] == self.value) and (self.p_value[6] == self.value)) or\\\n",
    "            ((self.p_value[1] == self.value) and (self.p_value[4] == self.value) and (self.p_value[7] == self.value)) or\\\n",
    "            ((self.p_value[2] == self.value) and (self.p_value[5] == self.value) and (self.p_value[8] == self.value)) or\\\n",
    "            ((self.p_value[0] == self.value) and (self.p_value[4] == self.value) and (self.p_value[8] == self.value)) or\\\n",
    "            ((self.p_value[2] == self.value) and (self.p_value[4] == self.value) and (self.p_value[6] == self.value)):\n",
    "                \n",
    "            self.result = True\n",
    "                \n",
    "            return TicTacToc.print_result(self)\n",
    "\n",
    "        elif self.g_counter == 9:\n",
    "            \n",
    "            return TicTacToc.print_result(self)\n",
    "\n",
    "        else:\n",
    "            TicTacToc.game_round(self)\n",
    "\n",
    "    def player_time(self):\n",
    "        \n",
    "        if self.g_counter % 2 != 0:\n",
    "            self.value = self.dict[\"value_player1\"]\n",
    "            self.player = self.dict[\"player1\"]\n",
    "            \n",
    "        else:\n",
    "            self.value = self.dict[\"value_player2\"]\n",
    "            self.player = self.dict[\"player2\"]\n",
    "    \n",
    "    def game_round(self):\n",
    "        \n",
    "        TicTacToc.diagram (self)\n",
    "        self.g_counter += 1\n",
    "        TicTacToc.player_time(self)\n",
    "\n",
    "        position = int(input(f\"\\n{self.player}: Digite uma posição: \"))\n",
    "        \n",
    "        while True:\n",
    "\n",
    "            if (position <= 0) or (position > 9): \n",
    "                position = int(input(f\"{self.player}: Posição inválida. Digite uma nova posição: \"))\n",
    "\n",
    "            elif (self.p_value[(position) -1]) != \" \":\n",
    "                position = int(input(f\"{self.player}: Posição já preenchida. Digite uma nova posição: \"))\n",
    "            \n",
    "            else:\n",
    "                self.p_value[position - 1] = self.value\n",
    "                    \n",
    "                return TicTacToc.check_winner(self)\n",
    "\n",
    "\n",
    "    def print_result(self):\n",
    "        \n",
    "        TicTacToc.diagram (self)\n",
    "        \n",
    "        if self.result:\n",
    "        \n",
    "            print(\"\\n\" + \"*\"*30)\n",
    "            print(f\"\\nO {self.player} venceu!!!\")\n",
    "            print(\"\\n\" + \"*\"*30)\n",
    "        \n",
    "        else:\n",
    "            print(\"\\n\" + \"*\"*30)\n",
    "            print(\"\\nO jogo empatou!!!\")\n",
    "            print(\"\\n\" + \"*\"*30)\n",
    "            "
   ]
  },
  {
   "cell_type": "code",
   "execution_count": 63,
   "metadata": {},
   "outputs": [],
   "source": [
    "game_one = TicTacToc()"
   ]
  },
  {
   "cell_type": "code",
   "execution_count": 64,
   "metadata": {
    "tags": []
   },
   "outputs": [
    {
     "name": "stdout",
     "output_type": "stream",
     "text": [
      "  Escolha a posição da sua jogada com base no diagrama:\n",
      "                        | 1 | 2 | 3 |\n",
      "                        | 4 | 5 | 6 |\n",
      "                        | 7 | 8 | 9 |\n"
     ]
    },
    {
     "name": "stdin",
     "output_type": "stream",
     "text": [
      "\n",
      "Jogador 1: Digite uma posição:  1\n"
     ]
    },
    {
     "name": "stdout",
     "output_type": "stream",
     "text": [
      " \n",
      "                    \n",
      "|X| | |                    \n",
      "| | | |                    \n",
      "| | | |\n"
     ]
    },
    {
     "name": "stdin",
     "output_type": "stream",
     "text": [
      "\n",
      "Jogador 2: Digite uma posição:  2\n"
     ]
    },
    {
     "name": "stdout",
     "output_type": "stream",
     "text": [
      " \n",
      "                    \n",
      "|X|0| |                    \n",
      "| | | |                    \n",
      "| | | |\n"
     ]
    },
    {
     "name": "stdin",
     "output_type": "stream",
     "text": [
      "\n",
      "Jogador 1: Digite uma posição:  3\n"
     ]
    },
    {
     "name": "stdout",
     "output_type": "stream",
     "text": [
      " \n",
      "                    \n",
      "|X|0|X|                    \n",
      "| | | |                    \n",
      "| | | |\n"
     ]
    },
    {
     "name": "stdin",
     "output_type": "stream",
     "text": [
      "\n",
      "Jogador 2: Digite uma posição:  4\n"
     ]
    },
    {
     "name": "stdout",
     "output_type": "stream",
     "text": [
      " \n",
      "                    \n",
      "|X|0|X|                    \n",
      "|0| | |                    \n",
      "| | | |\n"
     ]
    },
    {
     "name": "stdin",
     "output_type": "stream",
     "text": [
      "\n",
      "Jogador 1: Digite uma posição:  6\n"
     ]
    },
    {
     "name": "stdout",
     "output_type": "stream",
     "text": [
      " \n",
      "                    \n",
      "|X|0|X|                    \n",
      "|0| |X|                    \n",
      "| | | |\n"
     ]
    },
    {
     "name": "stdin",
     "output_type": "stream",
     "text": [
      "\n",
      "Jogador 2: Digite uma posição:  9\n"
     ]
    },
    {
     "name": "stdout",
     "output_type": "stream",
     "text": [
      " \n",
      "                    \n",
      "|X|0|X|                    \n",
      "|0| |X|                    \n",
      "| | |0|\n"
     ]
    },
    {
     "name": "stdin",
     "output_type": "stream",
     "text": [
      "\n",
      "Jogador 1: Digite uma posição:  8\n"
     ]
    },
    {
     "name": "stdout",
     "output_type": "stream",
     "text": [
      " \n",
      "                    \n",
      "|X|0|X|                    \n",
      "|0| |X|                    \n",
      "| |X|0|\n"
     ]
    },
    {
     "name": "stdin",
     "output_type": "stream",
     "text": [
      "\n",
      "Jogador 2: Digite uma posição:  5\n"
     ]
    },
    {
     "name": "stdout",
     "output_type": "stream",
     "text": [
      " \n",
      "                    \n",
      "|X|0|X|                    \n",
      "|0|0|X|                    \n",
      "| |X|0|\n"
     ]
    },
    {
     "name": "stdin",
     "output_type": "stream",
     "text": [
      "\n",
      "Jogador 1: Digite uma posição:  7\n"
     ]
    },
    {
     "name": "stdout",
     "output_type": "stream",
     "text": [
      " \n",
      "                    \n",
      "|X|0|X|                    \n",
      "|0|0|X|                    \n",
      "|X|X|0|\n",
      "\n",
      "******************************\n",
      "\n",
      "O jogo empatou!!!\n",
      "\n",
      "******************************\n"
     ]
    }
   ],
   "source": [
    "game_one.game_round()"
   ]
  },
  {
   "cell_type": "code",
   "execution_count": null,
   "metadata": {},
   "outputs": [],
   "source": []
  }
 ],
 "metadata": {
  "kernelspec": {
   "display_name": "Python 3 (ipykernel)",
   "language": "python",
   "name": "python3"
  },
  "language_info": {
   "codemirror_mode": {
    "name": "ipython",
    "version": 3
   },
   "file_extension": ".py",
   "mimetype": "text/x-python",
   "name": "python",
   "nbconvert_exporter": "python",
   "pygments_lexer": "ipython3",
   "version": "3.8.10"
  }
 },
 "nbformat": 4,
 "nbformat_minor": 4
}
